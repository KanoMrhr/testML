{
  "nbformat": 4,
  "nbformat_minor": 0,
  "metadata": {
    "colab": {
      "name": "MachineLearning.ipynb",
      "version": "0.3.2",
      "provenance": [],
      "collapsed_sections": [],
      "include_colab_link": true
    }
  },
  "cells": [
    {
      "cell_type": "markdown",
      "metadata": {
        "id": "view-in-github",
        "colab_type": "text"
      },
      "source": [
        "[View in Colaboratory](https://colab.research.google.com/github/KanoMrhr/testML/blob/master/MachineLearning.ipynb)"
      ]
    },
    {
      "metadata": {
        "id": "3WuX9KV1IpEx",
        "colab_type": "text"
      },
      "cell_type": "markdown",
      "source": [
        "Pro1"
      ]
    },
    {
      "metadata": {
        "id": "DTgkE-vCGXsf",
        "colab_type": "code",
        "colab": {}
      },
      "cell_type": "code",
      "source": [
        "import numpy as np\n",
        "\n",
        "def dataset1():\n",
        "    n = 100\n",
        "    x = 3 * (np.random.rand(n, 2) - 0.5)\n",
        "    radius = x[:, 0] ** 2 + x[:, 1] ** 2\n",
        "    y = (radius > 0.7 + 0.1 * np.random.randn(n)) == (radius < 2.2 + 0.1 * np.random.randn(n))\n",
        "    y = np.array(list(map(lambda x: 1 if x else -1, y)))\n",
        "    return x, y\n",
        "\n",
        "\n",
        "def dataset2():\n",
        "    n = 40\n",
        "    omega = np.random.randn(1)\n",
        "    noise = 0.8 * np.random.randn(n)\n",
        "    x = np.random.randn(n, 2)\n",
        "    y = omega * x[:, 0] + x[:, 1] + noise > 0\n",
        "    y = np.array( list(map( lambda x: 1 if x else -1, y )) )\n",
        "    return x, y\n",
        "\n",
        "\n",
        "def dataset3():\n",
        "    m = 20\n",
        "    n = 40\n",
        "    r = 2\n",
        "    A = np.dot(np.random.rand(m, r), np.random.rand(r, n))\n",
        "    ninc = 100\n",
        "    Q = np.random.permutation(m * n)[:ninc]\n",
        "    A[Q // n, Q % n] = None\n",
        "    return A\n",
        "\n",
        "class BatchSteepestGradientModel(object):\n",
        "    def __init__(self, eta=0.5, gamma=1.0):\n",
        "        self.W = 0\n",
        "        self.eta = eta\n",
        "        self.gamma = gamma\n",
        "\n",
        "    def fit(self, X, Y, epochs=100):\n",
        "        if len(X.shape) == 1:\n",
        "            X = X.reshape(1, -1)\n",
        "        else:\n",
        "            X = X.T\n",
        "\n",
        "        if len(Y.shape) == 1:\n",
        "            Y = Y.reshape(1, -1)\n",
        "        else:\n",
        "            Y = Y.T\n",
        "\n",
        "        self.W = np.random.randn(\n",
        "            X.shape[0], Y.shape[0])\n",
        "\n",
        "        Ws = np.array([self.W])\n",
        "\n",
        "        for epoch in range(epochs):\n",
        "            self.W -= (self.eta\n",
        "                       * (((-Y * X * np.exp(-Y * np.dot(self.W.T, X)))\n",
        "                            / (1 + np.exp(-Y * np.dot(self.W.T, X)))).sum()\n",
        "                       + 2 * self.gamma * self.W))\n",
        "            Ws = np.append(Ws, [self.W], axis=0)\n",
        "\n",
        "        return Ws\n",
        "\n",
        "    def predict(self, X):\n",
        "        if len(X.shape) == 1:\n",
        "            X.reshape(-1, 1)\n",
        "        else:\n",
        "            X = X.T\n",
        "\n",
        "        Y_pred = np.dot(\n",
        "            self.W.T, X)\n",
        "        Y_pred = Y_pred > 0\n",
        "        Y_pred = np.array(\n",
        "            list(map(lambda x: 1 if x else -1, Y_pred.reshape(-1))))\n",
        "\n",
        "        return Y_pred\n",
        "\n",
        "    def score(self, X, Y):\n",
        "        Y_pred = self.predict(X)\n",
        "        return (Y == Y_pred).sum() / len(Y)\n",
        "\n",
        "\n",
        "class NewtonBasedModel(object):\n",
        "    def __init__(self, eta=0.5, gamma=1):\n",
        "        self.W = 0\n",
        "        self.eta = eta\n",
        "        self.gamma = gamma\n",
        "\n",
        "    def fit(self, X, Y, epochs=100):\n",
        "        if len(X.shape) == 1:\n",
        "            X = X.reshape(1, -1)\n",
        "        else:\n",
        "            X = X.T\n",
        "\n",
        "        if len(Y.shape) == 1:\n",
        "            Y = Y.reshape(1, -1)\n",
        "        else:\n",
        "            Y = Y.T\n",
        "\n",
        "        self.W = np.random.randn(\n",
        "            X.shape[0], Y.shape[0])\n",
        "\n",
        "        Ws = np.array([self.W])\n",
        "\n",
        "        for epoch in range(epochs):\n",
        "            hessian = (((Y ** 2 * np.array([np.outer(xi, xi) for xi in X.T]).T \n",
        "                         * np.exp(-Y * self.W.T.dot(X)))\n",
        "                         / (1 + np.exp(-Y * self.W.T.dot(X))) ** 2).sum()\n",
        "                         + 2 * self.gamma * np.eye(X.shape[0]))\n",
        "            grad = (((-Y * X * np.exp(-Y * self.W.T.dot(X)))\n",
        "\t\t\t\t\t  / (1 + np.exp(-Y * self.W.T.dot(X)))).sum()\n",
        "\t\t\t\t\t  + 2 * self.gamma * self.W)\n",
        "            self.W -= self.eta * np.linalg.inv(hessian).dot(grad)\n",
        "            Ws = np.append(Ws, [self.W], axis=0)\n",
        "\n",
        "        return Ws\n",
        "\n",
        "    def predict(self, X):\n",
        "        if len(X.shape) == 1:\n",
        "            X.reshape(-1, 1)\n",
        "        else:\n",
        "            X = X.T\n",
        "\n",
        "        Y_pred = np.dot(\n",
        "            self.W.T, X)\n",
        "        Y_pred = Y_pred > 0\n",
        "        Y_pred = np.array(\n",
        "            list(map(lambda x: 1 if x else -1, Y_pred.reshape(-1))))\n",
        "\n",
        "        return Y_pred\n",
        "\n",
        "    def score(self, X, Y):\n",
        "        Y_pred = self.predict(X)\n",
        "        return (Y == Y_pred).sum() / len(Y)\n",
        "\n",
        "      \n"
      ],
      "execution_count": 0,
      "outputs": []
    },
    {
      "metadata": {
        "id": "M3wAyyrsKPFe",
        "colab_type": "code",
        "colab": {
          "base_uri": "https://localhost:8080/",
          "height": 708
        },
        "outputId": "c3bca5ca-ede0-4863-bcc2-4d0ea4c4d993"
      },
      "cell_type": "code",
      "source": [
        "import matplotlib.pyplot as plt\n",
        "\n",
        "np.random.seed(1234321) # If value of seed is same,, result is always same. \n",
        "\n",
        "def J(W, X, y, gamma):\n",
        "\treturn np.log(1 + np.exp(-y * W.T.dot(X))).sum() + gamma * W.T.dot(W)\n",
        "\n",
        "gamma = 5\n",
        "eta = 1 / (2 * 10 * gamma)\n",
        "\n",
        "X, y = dataset2()\n",
        "\n",
        "BSG = BatchSteepestGradientModel(eta=eta, gamma=gamma)\n",
        "NBM = NewtonBasedModel(eta=eta, gamma=gamma)\n",
        "\n",
        "W_BSG = BSG.fit(X, y)\n",
        "W_NBM = NBM.fit(X, y)\n",
        "\n",
        "W_BSG_J = np.array([J(W, X.T, y.reshape(1, -1), gamma).reshape(-1) for W in W_BSG])\n",
        "W_NBM_J = np.array([J(W, X.T, y.reshape(1, -1), gamma).reshape(-1) for W in W_NBM])\n",
        "\n",
        "plt.plot(range(100), W_BSG_J[:100], \"y\", label=\"batch steepest gradient method\")\n",
        "plt.plot(range(100), W_NBM_J[:100], \"c\", label=\"Newton based method\")\n",
        "plt.legend()\n",
        "plt.xlabel(\"Iteration\")\n",
        "plt.ylabel(\"$J(W)$\")\n",
        "plt.show()\n",
        "\n",
        "plt.scatter(X[:, 0], X[:, 1], c=y, cmap=\"RdBu\")\n",
        "plt.show()\n",
        "\n",
        "print(BSG.score(X, y), NBM.score(X, y))\n"
      ],
      "execution_count": 0,
      "outputs": [
        {
          "output_type": "display_data",
          "data": {
            "image/png": "[encoded data removed]",
            "text/plain": [
              "<matplotlib.figure.Figure at 0x7f6fc0c82e50>"
            ]
          },
          "metadata": {
            "tags": []
          }
        },
        {
          "output_type": "display_data",
          "data": {
            "image/png": "[encoded data removed]",
            "text/plain": [
              "<matplotlib.figure.Figure at 0x7f6fc0d08190>"
            ]
          },
          "metadata": {
            "tags": []
          }
        },
        {
          "output_type": "stream",
          "text": [
            "(0, 0)\n"
          ],
          "name": "stdout"
        }
      ]
    },
    {
      "metadata": {
        "id": "AUKTZdlKKOrE",
        "colab_type": "text"
      },
      "cell_type": "markdown",
      "source": [
        ""
      ]
    },
    {
      "metadata": {
        "id": "XZzCDRQMAPAm",
        "colab_type": "text"
      },
      "cell_type": "markdown",
      "source": [
        "↑かつのしんのもと"
      ]
    },
    {
      "metadata": {
        "id": "pcwKECWU_8Vv",
        "colab_type": "code",
        "colab": {
          "base_uri": "https://localhost:8080/",
          "height": 708
        },
        "outputId": "10339af2-13a4-455e-8ac2-63eb0b71fc36"
      },
      "cell_type": "code",
      "source": [
        "import numpy as np\n",
        "\n",
        "# datatest\n",
        "def dataset1():\n",
        "    n = 100\n",
        "    x = 3 * (np.random.rand(n, 2) - 0.5)\n",
        "    radius = x[:, 0] ** 2 + x[:, 1] ** 2\n",
        "    y = (radius > 0.7 + 0.1 * np.random.randn(n)) == (radius < 2.2 + 0.1 * np.random.randn(n))\n",
        "    y = np.array(list(map(lambda x: 1 if x else -1, y)))\n",
        "    return x, y\n",
        "\n",
        "\n",
        "def dataset2():\n",
        "    n = 40\n",
        "    omega = np.random.randn(1)\n",
        "    noise = 0.8 * np.random.randn(n)\n",
        "    x = np.random.randn(n, 2)\n",
        "    y = omega * x[:, 0] + x[:, 1] + noise > 0\n",
        "    y = np.array( list(map( lambda x: 1 if x else -1, y )) )\n",
        "    return x, y\n",
        "\n",
        "\n",
        "def dataset3():\n",
        "    m = 20\n",
        "    n = 40\n",
        "    r = 2\n",
        "    A = np.dot(np.random.rand(m, r), np.random.rand(r, n))\n",
        "    ninc = 100\n",
        "    Q = np.random.permutation(m * n)[:ninc]\n",
        "    A[Q // n, Q % n] = None\n",
        "    return A\n",
        "\n",
        "\n",
        "# BatchSteepestGradientのコード\n",
        "class BatchSteepestGradientModel(object):\n",
        "    def __init__(self, eta = 0.5, gamma = 1.0):\n",
        "        self.W = 0\n",
        "        self.eta = eta\n",
        "        self.gamma = gamma\n",
        "\n",
        "    def fit(self, X, Y, epochs=100):\n",
        "        if len(X.shape) == 1:\n",
        "            X = X.reshape(1, -1)\n",
        "        else:\n",
        "            X = X.T\n",
        "\n",
        "        if len(Y.shape) == 1:\n",
        "            Y = Y.reshape(1, -1)\n",
        "        else:\n",
        "            Y = Y.T\n",
        "\n",
        "        self.W = np.random.randn(\n",
        "            X.shape[0], Y.shape[0])\n",
        "\n",
        "        Ws = np.array([self.W])\n",
        "\n",
        "        for epoch in range(epochs):\n",
        "            self.W -= ( self.eta * ( ((-Y * X * np.exp( -Y * np.dot(self.W.T, X) ))\n",
        "                                     / (1 + np.exp(-Y * np.dot(self.W.T, X)))).sum() + 2 * self.gamma * self.W ) )\n",
        "            Ws = np.append(Ws, [self.W], axis = 0)\n",
        "\n",
        "        return Ws\n",
        "\n",
        "    def predict(self, X):\n",
        "        if len(X.shape) == 1:\n",
        "            X.reshape(-1, 1)\n",
        "        else:\n",
        "            X = X.T\n",
        "\n",
        "        Y_pred = np.dot(self.W.T, X)\n",
        "        Y_pred = Y_pred > 0\n",
        "        Y_pred = np.array(list( map( lambda x: 1 if x else -1, Y_pred.reshape(-1) ) ))\n",
        "\n",
        "        return Y_pred\n",
        "\n",
        "    def score(self, X, Y):\n",
        "        Y_pred = self.predict(X)\n",
        "        return (Y == Y_pred).sum() / len(Y)\n",
        "\n",
        "      \n",
        "# NewtonBasedのコード\n",
        "class NewtonBasedModel(object):\n",
        "    def __init__(self, eta = 0.5, gamma = 1):\n",
        "        self.W = 0\n",
        "        self.eta = eta\n",
        "        self.gamma = gamma\n",
        "\n",
        "    def fit(self, X, Y, epochs = 100):\n",
        "        if len(X.shape) == 1:\n",
        "            X = X.reshape(1, -1)\n",
        "        else:\n",
        "            X = X.T\n",
        "\n",
        "        if len(Y.shape) == 1:\n",
        "            Y = Y.reshape(1, -1)\n",
        "        else:\n",
        "            Y = Y.T\n",
        "\n",
        "        self.W = np.random.randn(X.shape[0], Y.shape[0])\n",
        "\n",
        "        Ws = np.array([self.W])\n",
        "\n",
        "        for epoch in range(epochs):\n",
        "            hessian = (( (Y ** 2 * np.array([np.outer(xi, xi) for xi in X.T]).T * np.exp( -Y * self.W.T.dot(X) ))\n",
        "                         / ( 1 + np.exp(-Y * self.W.T.dot(X)) ) ** 2).sum() + 2 * self.gamma * np.eye(X.shape[0]))\n",
        "            grad = ( ( (-Y * X * np.exp(-Y * self.W.T.dot(X))) / (1 + np.exp(-Y * self.W.T.dot(X))) ).sum()\n",
        "                    + 2 * self.gamma * self.W)\n",
        "            self.W -= self.eta * np.linalg.inv(hessian).dot(grad)\n",
        "            Ws = np.append(Ws, [self.W], axis = 0)\n",
        "\n",
        "        return Ws\n",
        "\n",
        "    def predict(self, X):\n",
        "        if len(X.shape) == 1:\n",
        "            X.reshape(-1, 1)\n",
        "        else:\n",
        "            X = X.T\n",
        "\n",
        "        Y_pred = np.dot(self.W.T, X)\n",
        "        Y_pred = Y_pred > 0\n",
        "        Y_pred = np.array( list(map( lambda x: 1 if x else -1, Y_pred.reshape(-1) )) )\n",
        "\n",
        "        return Y_pred\n",
        "\n",
        "    def score(self, X, Y):\n",
        "        Y_pred = self.predict(X)\n",
        "        return (Y == Y_pred).sum() / len(Y)\n",
        "\n",
        "  \n",
        "    \n",
        " # 比較コード\n",
        "import matplotlib.pyplot as plt\n",
        "\n",
        "np.random.seed(42)\n",
        "\n",
        "def J(W, X, y, gamma):\n",
        "\treturn np.log(1 + np.exp(-y * W.T.dot(X))).sum() + gamma * W.T.dot(W)\n",
        "\n",
        "gamma = 5\n",
        "eta = 1 / (2 * 10 * gamma)\n",
        "\n",
        "X, y = dataset2()\n",
        "\n",
        "bsg = BatchSteepestGradientModel(eta = eta, gamma = gamma)\n",
        "nb = NewtonBasedModel(eta = eta, gamma = gamma)\n",
        "\n",
        "W_BSG = bsg.fit(X, y)\n",
        "W_NB = nb.fit(X, y)\n",
        "\n",
        "W_BSG_J = np.array([J(W, X.T, y.reshape(1, -1), gamma).reshape(-1) for W in W_BSG])\n",
        "W_NB_J = np.array([J(W, X.T, y.reshape(1, -1), gamma).reshape(-1) for W in W_NB])\n",
        "\n",
        "plt.plot(range(100), W_BSG_J[:100], \"r\", label = \"Batch Steepest Gradient Method\")\n",
        "plt.plot(range(100), W_NB_J[:100], \"b\", label = \"Newton Based Method\")\n",
        "plt.legend()\n",
        "plt.xlabel(\"Iteration\")\n",
        "plt.ylabel(\"$J(W)$\")\n",
        "plt.show()\n",
        "\n",
        "plt.scatter(X[:, 0], X[:, 1], c=y, cmap=\"RdBu\")\n",
        "plt.show()\n",
        "\n",
        "print(bsg.score(X, y), nb.score(X, y))\n"
      ],
      "execution_count": 0,
      "outputs": [
        {
          "output_type": "display_data",
          "data": {
            "image/png": "[encoded data removed]",
            "text/plain": [
              "<matplotlib.figure.Figure at 0x7f6fc1892110>"
            ]
          },
          "metadata": {
            "tags": []
          }
        },
        {
          "output_type": "display_data",
          "data": {
            "image/png": "[encoded data removed]",
            "text/plain": [
              "<matplotlib.figure.Figure at 0x7f6fbeac1450>"
            ]
          },
          "metadata": {
            "tags": []
          }
        },
        {
          "output_type": "stream",
          "text": [
            "(0, 0)\n"
          ],
          "name": "stdout"
        }
      ]
    },
    {
      "metadata": {
        "id": "A8pxLIm1AnTp",
        "colab_type": "text"
      },
      "cell_type": "markdown",
      "source": [
        "比較実行コード"
      ]
    },
    {
      "metadata": {
        "id": "H3sPZpbMAvJY",
        "colab_type": "code",
        "colab": {}
      },
      "cell_type": "code",
      "source": [
        ""
      ],
      "execution_count": 0,
      "outputs": []
    }
  ]
}